{
 "cells": [
  {
   "cell_type": "code",
   "execution_count": 2,
   "metadata": {},
   "outputs": [],
   "source": [
    "import copt\n",
    "import numpy as np\n",
    "import matplotlib.pyplot as plt\n",
    "from pprint import pprint\n",
    "import time\n",
    "import torch"
   ]
  },
  {
   "cell_type": "code",
   "execution_count": 41,
   "metadata": {},
   "outputs": [],
   "source": [
    "problem = copt.getProblem(8)"
   ]
  },
  {
   "cell_type": "code",
   "execution_count": 42,
   "metadata": {},
   "outputs": [
    {
     "data": {
      "text/plain": [
       "[(512, 525, 1544, 451),\n",
       " (486, 546, 1535, 535),\n",
       " (471, 505, 1464, 471),\n",
       " (529, 494, 1541, 486),\n",
       " (531, 550, 1498, 519),\n",
       " (524, 454, 1506, 488),\n",
       " (455, 460, 1462, 547),\n",
       " (496, 466, 1450, 506)]"
      ]
     },
     "execution_count": 42,
     "metadata": {},
     "output_type": "execute_result"
    }
   ],
   "source": [
    "# problem = problem[:2]\n",
    "problem"
   ]
  },
  {
   "cell_type": "code",
   "execution_count": 43,
   "metadata": {},
   "outputs": [
    {
     "data": {
      "text/plain": [
       "[0, 1, 2, 3, 4, 5, 6, 7]"
      ]
     },
     "execution_count": 43,
     "metadata": {},
     "output_type": "execute_result"
    }
   ],
   "source": [
    "order = np.arange(len(problem))\n",
    "order = order.tolist()\n",
    "order"
   ]
  },
  {
   "cell_type": "code",
   "execution_count": 44,
   "metadata": {
    "scrolled": true
   },
   "outputs": [
    {
     "data": {
      "text/plain": [
       "{'order': [0, 1, 2, 3, 4, 5, 6, 7],\n",
       " 'success': 0,\n",
       " 'nRouted': 1,\n",
       " 'measure': 1112.4507934888325,\n",
       " 'pathData': [[(512, 525),\n",
       "   (528, 509),\n",
       "   (535, 509),\n",
       "   (544, 500),\n",
       "   (1435, 500),\n",
       "   (1435, 512),\n",
       "   (1444, 521),\n",
       "   (1456, 521),\n",
       "   (1465, 512),\n",
       "   (1465, 500),\n",
       "   (1495, 500),\n",
       "   (1496, 499),\n",
       "   (1500, 503),\n",
       "   (1512, 503),\n",
       "   (1521, 494),\n",
       "   (1521, 482),\n",
       "   (1517, 478),\n",
       "   (1544, 451)]],\n",
       " 'failedConnections': [(486, 546, 1535, 535),\n",
       "  (471, 505, 1464, 471),\n",
       "  (529, 494, 1541, 486),\n",
       "  (531, 550, 1498, 519),\n",
       "  (524, 454, 1506, 488),\n",
       "  (455, 460, 1462, 547),\n",
       "  (496, 466, 1450, 506)]}"
      ]
     },
     "execution_count": 44,
     "metadata": {},
     "output_type": "execute_result"
    }
   ],
   "source": [
    "eval = copt.evaluate(problem, order)\n",
    "eval"
   ]
  },
  {
   "cell_type": "code",
   "execution_count": 68,
   "metadata": {},
   "outputs": [
    {
     "name": "stdout",
     "output_type": "stream",
     "text": [
      "{'failedConnections': [],\n",
      " 'measure': 3151.457936163769,\n",
      " 'nRouted': 3,\n",
      " 'order': [0, 1, 2],\n",
      " 'pathData': [[(512, 525), (532, 505), (1490, 505), (1544, 451)],\n",
      "              [(486, 546),\n",
      "               (499, 533),\n",
      "               (506, 540),\n",
      "               (518, 540),\n",
      "               (538, 520),\n",
      "               (1496, 520),\n",
      "               (1508, 508),\n",
      "               (1535, 535)],\n",
      "              [(471, 505), (511, 505), (526, 490), (1445, 490), (1464, 471)]],\n",
      " 'success': 1}\n"
     ]
    },
    {
     "data": {
      "image/png": "[encoded data removed]",
      "text/plain": [
       "<Figure size 432x288 with 1 Axes>"
      ]
     },
     "metadata": {
      "needs_background": "light"
     },
     "output_type": "display_data"
    }
   ],
   "source": [
    "n = 3\n",
    "test_prob = problem[:n]\n",
    "test_eval = copt.evaluate(test_prob, order[:n])\n",
    "pprint(test_eval)\n",
    "plot_solution(test_eval)"
   ]
  },
  {
   "cell_type": "code",
   "execution_count": 74,
   "metadata": {},
   "outputs": [
    {
     "data": {
      "text/plain": [
       "[<matplotlib.lines.Line2D at 0x116245160>]"
      ]
     },
     "execution_count": 74,
     "metadata": {},
     "output_type": "execute_result"
    },
    {
     "data": {
      "image/png": "[encoded data removed]",
      "text/plain": [
       "<Figure size 432x288 with 1 Axes>"
      ]
     },
     "metadata": {
      "needs_background": "light"
     },
     "output_type": "display_data"
    }
   ],
   "source": [
    "time_plt = []\n",
    "for i in range(1000):\n",
    "    \n",
    "    problem = copt.getProblem(8)\n",
    "    start_time = time.time()\n",
    "    order = np.arange(len(problem))\n",
    "    order = order.tolist()\n",
    "    copt.evaluate(problem, order)\n",
    "    time_plt.append(time.time() - start_time)\n",
    "plt.plot(time_plt)"
   ]
  },
  {
   "cell_type": "code",
   "execution_count": null,
   "metadata": {},
   "outputs": [],
   "source": []
  },
  {
   "cell_type": "code",
   "execution_count": 55,
   "metadata": {},
   "outputs": [
    {
     "data": {
      "image/png": "[encoded data removed]",
      "text/plain": [
       "<Figure size 432x288 with 1 Axes>"
      ]
     },
     "metadata": {
      "needs_background": "light"
     },
     "output_type": "display_data"
    }
   ],
   "source": [
    "def plot_solution(solution):\n",
    "    paths = solution['pathData']\n",
    "    fig, ax = plt.subplots()\n",
    "    for path in paths:\n",
    "        x, y = zip(*path)\n",
    "        \n",
    "        color = next(ax._get_lines.prop_cycler)['color']\n",
    "        ax.plot(x,y,'--', color=color)\n",
    "        ax.plot([x[0], x[-1]], [y[0], y[-1]], 'o',\n",
    "                color=color)\n",
    "        \n",
    "    fail = solution['failedConnections']\n",
    "    for point_pair in fail:\n",
    "        color = next(ax._get_lines.prop_cycler)['color']\n",
    "        ax.plot((point_pair[0], point_pair[2]), (point_pair[1], point_pair[3]), 'o', color=color)\n",
    "        # break\n",
    "    \n",
    "    ax.set_xlim([300,1700])\n",
    "    ax.set_ylim([300,700])\n",
    "    ax.axis('off')\n",
    "    \n",
    "    # fig.savefig('aaa', dpi=300)\n",
    "    \n",
    "        \n",
    "plot_solution(eval)"
   ]
  },
  {
   "cell_type": "code",
   "execution_count": 15,
   "metadata": {},
   "outputs": [
    {
     "data": {
      "text/plain": [
       "torch.Size([3, 4])"
      ]
     },
     "execution_count": 15,
     "metadata": {},
     "output_type": "execute_result"
    }
   ],
   "source": [
    "x_raw = np.arange(12).reshape(3,-1).tolist()\n",
    "x_torch = torch.tensor(x_raw)\n",
    "x_torch.size()"
   ]
  },
  {
   "cell_type": "code",
   "execution_count": 21,
   "metadata": {},
   "outputs": [],
   "source": [
    "dataset = torch.FloatTensor(5, 10, 2).uniform_(0, 1)"
   ]
  },
  {
   "cell_type": "code",
   "execution_count": 23,
   "metadata": {},
   "outputs": [
    {
     "name": "stdout",
     "output_type": "stream",
     "text": [
      "torch.Size([10, 2])\n",
      "torch.Size([10, 2])\n",
      "torch.Size([10, 2])\n",
      "torch.Size([10, 2])\n",
      "torch.Size([10, 2])\n"
     ]
    }
   ],
   "source": [
    "for x in dataset:\n",
    "    print(x.size())"
   ]
  }
 ],
 "metadata": {
  "kernelspec": {
   "display_name": "Python 3",
   "language": "python",
   "name": "python3"
  },
  "language_info": {
   "codemirror_mode": {
    "name": "ipython",
    "version": 3
   },
   "file_extension": ".py",
   "mimetype": "text/x-python",
   "name": "python",
   "nbconvert_exporter": "python",
   "pygments_lexer": "ipython3",
   "version": "3.7.3"
  }
 },
 "nbformat": 4,
 "nbformat_minor": 2
}
