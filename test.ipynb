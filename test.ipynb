{
 "cells": [
  {
   "cell_type": "code",
   "execution_count": 1,
   "metadata": {},
   "outputs": [],
   "source": [
    "import copt\n",
    "import matplotlib.pyplot as plt"
   ]
  },
  {
   "cell_type": "code",
   "execution_count": 2,
   "metadata": {},
   "outputs": [
    {
     "data": {
      "text/plain": [
       "['__doc__',\n",
       " '__file__',\n",
       " '__loader__',\n",
       " '__name__',\n",
       " '__package__',\n",
       " '__spec__',\n",
       " 'bruteForce',\n",
       " 'evaluate',\n",
       " 'getInitialState',\n",
       " 'getProblem']"
      ]
     },
     "execution_count": 2,
     "metadata": {},
     "output_type": "execute_result"
    }
   ],
   "source": [
    "dir(copt)"
   ]
  },
  {
   "cell_type": "code",
   "execution_count": 3,
   "metadata": {},
   "outputs": [
    {
     "data": {
      "text/plain": [
       "[(537, 469, 1551, 475),\n",
       " (515, 514, 1462, 515),\n",
       " (455, 541, 1535, 548),\n",
       " (569, 483, 1494, 494),\n",
       " (459, 469, 1469, 463),\n",
       " (493, 549, 1462, 548),\n",
       " (474, 504, 1499, 451),\n",
       " (499, 478, 1528, 506)]"
      ]
     },
     "execution_count": 3,
     "metadata": {},
     "output_type": "execute_result"
    }
   ],
   "source": [
    "problem = copt.getProblem(8)\n",
    "problem"
   ]
  },
  {
   "cell_type": "code",
   "execution_count": 4,
   "metadata": {},
   "outputs": [
    {
     "name": "stdout",
     "output_type": "stream",
     "text": [
      "[(0.0, 0.2, 1.0, 0.8), (0.0, 1.0, 0.8, 0.0)]\n"
     ]
    }
   ],
   "source": [
    "verts = [\n",
    "   (0., 0.),   # P0\n",
    "   (0.2, 1.),  # P1\n",
    "   (1., 0.8),  # P2\n",
    "   (0.8, 0.),  # P3\n",
    "]\n",
    "print(list(zip(*verts)))\n"
   ]
  },
  {
   "cell_type": "code",
   "execution_count": 5,
   "metadata": {},
   "outputs": [
    {
     "data": {
      "text/plain": [
       "[<matplotlib.lines.Line2D at 0x11831db70>]"
      ]
     },
     "execution_count": 5,
     "metadata": {},
     "output_type": "execute_result"
    },
    {
     "data": {
      "image/png": "[encoded data removed]",
      "text/plain": [
       "<Figure size 432x288 with 1 Axes>"
      ]
     },
     "metadata": {
      "needs_background": "light"
     },
     "output_type": "display_data"
    }
   ],
   "source": [
    "fix, ax = plt.subplots()\n",
    "ax.plot([0,1,2,3,2],[3,2,5,1,6],'k--')"
   ]
  },
  {
   "cell_type": "code",
   "execution_count": 6,
   "metadata": {},
   "outputs": [
    {
     "data": {
      "image/png": "[encoded data removed]",
      "text/plain": [
       "<Figure size 432x288 with 1 Axes>"
      ]
     },
     "metadata": {
      "needs_background": "light"
     },
     "output_type": "display_data"
    }
   ],
   "source": [
    "def plot_solution(solution):\n",
    "    paths = solution['pathData']\n",
    "    fig, ax = plt.subplots()\n",
    "    for path in paths:\n",
    "        x, y = zip(*path)\n",
    "        \n",
    "        color = next(ax._get_lines.prop_cycler)['color']\n",
    "        ax.plot(x,y,'--', color=color)\n",
    "        ax.plot([x[0], x[-1]], [y[0], y[-1]], 'o',\n",
    "                color=color)\n",
    "    \n",
    "    ax.set_xlim([300,1700])\n",
    "    ax.set_ylim([300,700])\n",
    "    ax.axis('off')\n",
    "    \n",
    "    # fig.savefig('aaa', dpi=300)\n",
    "    \n",
    "        \n",
    "plot_solution(copt.evaluate([(500,500,1500,500),\n",
    "               (500,600,1500,600)], [0,-1,1,-1]))"
   ]
  },
  {
   "cell_type": "code",
   "execution_count": 7,
   "metadata": {},
   "outputs": [
    {
     "data": {
      "text/plain": [
       "{'order': [0, 1],\n",
       " 'success': 1,\n",
       " 'nRouted': 2,\n",
       " 'measure': 2409.3422791987305,\n",
       " 'pathData': [[(500, 500), (550, 550), (1450, 550), (1500, 500)],\n",
       "  [(500, 600),\n",
       "   (539, 561),\n",
       "   (539, 560),\n",
       "   (485, 506),\n",
       "   (485, 494),\n",
       "   (494, 485),\n",
       "   (506, 485),\n",
       "   (556, 535),\n",
       "   (1444, 535),\n",
       "   (1494, 485),\n",
       "   (1506, 485),\n",
       "   (1515, 494),\n",
       "   (1515, 506),\n",
       "   (1461, 560),\n",
       "   (1461, 561),\n",
       "   (1500, 600)]],\n",
       " 'failedConnections': []}"
      ]
     },
     "execution_count": 7,
     "metadata": {},
     "output_type": "execute_result"
    }
   ],
   "source": [
    "copt.evaluate([(500,500,1500,500),\n",
    "               (500,600,1500,600)], [0,-1,1,1])"
   ]
  },
  {
   "cell_type": "code",
   "execution_count": 8,
   "metadata": {},
   "outputs": [
    {
     "data": {
      "text/plain": [
       "[]"
      ]
     },
     "execution_count": 8,
     "metadata": {},
     "output_type": "execute_result"
    }
   ],
   "source": [
    "copt.bruteForce([(500,500,1500,500),\n",
    "                 (500,514,1500,514)])"
   ]
  },
  {
   "cell_type": "code",
   "execution_count": 9,
   "metadata": {},
   "outputs": [
    {
     "data": {
      "text/plain": [
       "[(512, 554, 1521, 579),\n",
       " (515, 490, 1519, 433),\n",
       " (449, 518, 1510, 521),\n",
       " (529, 523, 1487, 551),\n",
       " (488, 512, 1460, 453),\n",
       " (472, 545, 1535, 501),\n",
       " (411, 519, 1450, 489),\n",
       " (574, 435, 1508, 480),\n",
       " (541, 463, 1457, 548),\n",
       " (434, 458, 1538, 463),\n",
       " (487, 468, 1544, 548),\n",
       " (520, 437, 1481, 425),\n",
       " (574, 533, 1484, 584),\n",
       " (589, 496, 1470, 512),\n",
       " (414, 551, 1549, 416)]"
      ]
     },
     "execution_count": 9,
     "metadata": {},
     "output_type": "execute_result"
    }
   ],
   "source": [
    "copt.getProblem(15)"
   ]
  },
  {
   "cell_type": "code",
   "execution_count": 10,
   "metadata": {},
   "outputs": [],
   "source": [
    "import time"
   ]
  },
  {
   "cell_type": "code",
   "execution_count": 11,
   "metadata": {},
   "outputs": [
    {
     "name": "stdout",
     "output_type": "stream",
     "text": [
      "[{'order': [1, 2, 0, 3, 4], 'success': 1, 'nRouted': 5, 'measure': 5424.864140499428, 'pathData': [[(540, 480), (560, 500), (1468, 500), (1470, 502), (1482, 502), (1484, 500), (1496, 500), (1518, 522)], [(470, 539), (488, 521), (495, 528), (507, 528), (519, 516), (527, 516), (536, 525), (548, 525), (557, 516), (557, 515), (1462, 515), (1464, 517), (1488, 517), (1490, 515), (1512, 537), (1524, 537), (1533, 528), (1533, 516), (1517, 500), (1540, 500), (1563, 477)], [(450, 459), (491, 500), (485, 506), (482, 506), (455, 533), (455, 545), (464, 554), (476, 554), (488, 542), (489, 543), (513, 543), (523, 533), (530, 540), (554, 540), (564, 530), (1423, 530), (1473, 580)], [(542, 510), (542, 509), (545, 506), (525, 486), (525, 474), (534, 465), (546, 465), (566, 485), (1474, 485), (1476, 487)], [(501, 513), (514, 500), (518, 500), (510, 492), (510, 468), (528, 450), (552, 450), (572, 470), (1434, 470), (1470, 434)]], 'failedConnections': []}, {'order': [3, 1, 0, 4, 2], 'success': 1, 'nRouted': 5, 'measure': 5489.030662740799, 'pathData': [[(542, 510), (552, 500), (1463, 500), (1476, 487)], [(540, 480), (545, 485), (1457, 485), (1470, 472), (1482, 472), (1491, 481), (1491, 493), (1484, 500), (1496, 500), (1518, 522)], [(450, 459), (491, 500), (493, 500), (486, 507), (486, 519), (495, 528), (507, 528), (519, 516), (527, 516), (536, 525), (548, 525), (558, 515), (1408, 515), (1473, 580)], [(501, 513), (514, 500), (531, 500), (535, 496), (525, 486), (525, 474), (534, 465), (546, 465), (551, 470), (1434, 470), (1470, 434)], [(470, 539), (477, 532), (478, 532), (489, 543), (513, 543), (523, 533), (530, 540), (554, 540), (564, 530), (1402, 530), (1467, 595), (1479, 595), (1488, 586), (1488, 574), (1429, 515), (1469, 515), (1473, 511), (1474, 511), (1478, 515), (1490, 515), (1512, 537), (1524, 537), (1533, 528), (1533, 516), (1517, 500), (1540, 500), (1563, 477)]], 'failedConnections': []}, {'order': [3, 0, 1, 4, 2], 'success': 1, 'nRouted': 5, 'measure': 5489.030662740799, 'pathData': [[(542, 510), (552, 500), (1463, 500), (1476, 487)], [(450, 459), (491, 500), (493, 500), (486, 507), (486, 519), (495, 528), (507, 528), (519, 516), (527, 516), (536, 525), (548, 525), (558, 515), (1408, 515), (1473, 580)], [(540, 480), (545, 485), (1457, 485), (1470, 472), (1482, 472), (1491, 481), (1491, 493), (1484, 500), (1496, 500), (1518, 522)], [(501, 513), (514, 500), (531, 500), (535, 496), (525, 486), (525, 474), (534, 465), (546, 465), (551, 470), (1434, 470), (1470, 434)], [(470, 539), (477, 532), (478, 532), (489, 543), (513, 543), (523, 533), (530, 540), (554, 540), (564, 530), (1402, 530), (1467, 595), (1479, 595), (1488, 586), (1488, 574), (1429, 515), (1469, 515), (1473, 511), (1474, 511), (1478, 515), (1490, 515), (1512, 537), (1524, 537), (1533, 528), (1533, 516), (1517, 500), (1540, 500), (1563, 477)]], 'failedConnections': []}, {'order': [4, 1, 2, 3, 0], 'success': 1, 'nRouted': 5, 'measure': 5513.782971419796, 'pathData': [[(501, 513), (514, 500), (531, 500), (536, 495), (548, 495), (553, 500), (1404, 500), (1470, 434)], [(540, 480), (554, 480), (559, 485), (1398, 485), (1464, 419), (1476, 419), (1485, 428), (1485, 440), (1470, 455), (1470, 472), (1482, 472), (1491, 481), (1491, 493), (1484, 500), (1496, 500), (1518, 522)], [(470, 539), (488, 521), (486, 519), (486, 507), (508, 485), (525, 485), (525, 474), (534, 465), (560, 465), (565, 470), (1392, 470), (1458, 404), (1482, 404), (1500, 422), (1500, 446), (1489, 457), (1489, 458), (1506, 475), (1506, 489), (1517, 500), (1540, 500), (1563, 477)], [(542, 510), (547, 515), (1410, 515), (1425, 500), (1463, 500), (1476, 487)], [(450, 459), (481, 490), (481, 491), (471, 501), (471, 517), (455, 533), (455, 545), (464, 554), (476, 554), (502, 528), (507, 528), (520, 515), (527, 515), (527, 516), (541, 530), (1416, 530), (1419, 527), (1420, 527), (1473, 580)]], 'failedConnections': []}, {'order': [1, 4, 3, 0, 2], 'success': 1, 'nRouted': 5, 'measure': 5544.444876303172, 'pathData': [[(540, 480), (560, 500), (1468, 500), (1470, 502), (1482, 502), (1484, 500), (1496, 500), (1518, 522)], [(501, 513), (514, 500), (531, 500), (535, 496), (525, 486), (525, 474), (534, 465), (546, 465), (566, 485), (1419, 485), (1470, 434)], [(542, 510), (545, 507), (546, 507), (554, 515), (1462, 515), (1464, 517), (1488, 517), (1490, 515), (1512, 537), (1524, 537), (1533, 528), (1533, 516), (1502, 485), (1478, 485), (1476, 487)], [(450, 459), (491, 500), (493, 500), (486, 507), (486, 519), (495, 528), (507, 528), (520, 515), (527, 515), (527, 516), (536, 525), (543, 525), (548, 530), (1423, 530), (1473, 580)], [(470, 539), (477, 532), (478, 532), (489, 543), (513, 543), (523, 533), (530, 540), (537, 540), (542, 545), (1417, 545), (1467, 595), (1479, 595), (1488, 586), (1488, 574), (1458, 544), (1458, 532), (1486, 532), (1506, 552), (1530, 552), (1548, 534), (1548, 510), (1538, 500), (1540, 500), (1563, 477)]], 'failedConnections': []}, {'order': [3, 4, 0, 1, 2], 'success': 1, 'nRouted': 5, 'measure': 5683.096679918781, 'pathData': [[(542, 510), (552, 500), (1463, 500), (1476, 487)], [(501, 513), (510, 504), (527, 504), (527, 516), (536, 525), (548, 525), (558, 515), (1469, 515), (1491, 493), (1491, 481), (1482, 472), (1470, 472), (1457, 485), (1419, 485), (1470, 434)], [(450, 459), (491, 500), (493, 500), (486, 507), (486, 519), (495, 528), (507, 528), (512, 523), (513, 523), (530, 540), (554, 540), (564, 530), (1423, 530), (1473, 580)], [(540, 480), (545, 485), (1404, 485), (1404, 479), (1464, 419), (1476, 419), (1485, 428), (1485, 440), (1468, 457), (1488, 457), (1506, 475), (1506, 499), (1501, 504), (1501, 505), (1518, 522)], [(470, 539), (477, 532), (478, 532), (489, 543), (512, 543), (524, 555), (560, 555), (570, 545), (1417, 545), (1467, 595), (1479, 595), (1488, 586), (1488, 574), (1444, 530), (1475, 530), (1490, 515), (1512, 537), (1524, 537), (1533, 528), (1533, 516), (1521, 504), (1521, 500), (1540, 500), (1563, 477)]], 'failedConnections': []}, {'order': [0, 3, 1, 2, 4], 'success': 1, 'nRouted': 5, 'measure': 5893.6723650886415, 'pathData': [[(450, 459), (491, 500), (493, 500), (495, 498), (507, 498), (509, 500), (531, 500), (536, 495), (548, 495), (553, 500), (1393, 500), (1473, 580)], [(542, 510), (547, 515), (1387, 515), (1467, 595), (1479, 595), (1488, 586), (1488, 574), (1414, 500), (1463, 500), (1476, 487)], [(540, 480), (554, 480), (559, 485), (1399, 485), (1403, 489), (1404, 489), (1408, 485), (1457, 485), (1470, 472), (1482, 472), (1491, 481), (1491, 493), (1484, 500), (1496, 500), (1518, 522)], [(470, 539), (488, 521), (486, 519), (486, 515), (485, 515), (435, 465), (435, 453), (444, 444), (456, 444), (495, 483), (513, 483), (515, 485), (525, 485), (525, 474), (534, 465), (560, 465), (565, 470), (1451, 470), (1464, 457), (1488, 457), (1506, 475), (1506, 489), (1517, 500), (1540, 500), (1563, 477)], [(501, 513), (503, 515), (503, 527), (476, 554), (464, 554), (455, 545), (455, 533), (468, 520), (468, 519), (420, 471), (420, 447), (438, 429), (462, 429), (501, 468), (510, 468), (528, 450), (566, 450), (571, 455), (1445, 455), (1458, 442), (1462, 442), (1470, 434)]], 'failedConnections': []}, {'order': [0, 3, 4, 1, 2], 'success': 1, 'nRouted': 5, 'measure': 6019.762768884262, 'pathData': [[(450, 459), (491, 500), (493, 500), (495, 498), (507, 498), (509, 500), (531, 500), (536, 495), (548, 495), (553, 500), (1393, 500), (1473, 580)], [(542, 510), (547, 515), (1387, 515), (1467, 595), (1479, 595), (1488, 586), (1488, 574), (1414, 500), (1463, 500), (1476, 487)], [(501, 513), (503, 515), (527, 515), (527, 516), (541, 530), (1381, 530), (1461, 610), (1485, 610), (1503, 592), (1503, 568), (1450, 515), (1469, 515), (1491, 493), (1491, 481), (1482, 472), (1470, 472), (1457, 485), (1419, 485), (1470, 434)], [(540, 480), (554, 480), (559, 485), (1399, 485), (1403, 489), (1404, 489), (1404, 479), (1464, 419), (1476, 419), (1485, 428), (1485, 440), (1468, 457), (1488, 457), (1506, 475), (1506, 499), (1501, 504), (1501, 505), (1518, 522)], [(470, 539), (488, 521), (497, 530), (520, 530), (535, 545), (1375, 545), (1455, 625), (1491, 625), (1518, 598), (1518, 562), (1512, 556), (1512, 537), (1524, 537), (1533, 528), (1533, 516), (1521, 504), (1521, 500), (1540, 500), (1563, 477)]], 'failedConnections': []}]\n",
      "It cost 0.07164311408996582 seconds.\n",
      "\n"
     ]
    }
   ],
   "source": [
    "time1 = time.time()\n",
    "print(copt.bruteForce(copt.getProblem(5),1))\n",
    "time2 = time.time()\n",
    "print('It cost {} seconds.\\n'.format(time2-time1))"
   ]
  },
  {
   "cell_type": "code",
   "execution_count": 12,
   "metadata": {},
   "outputs": [
    {
     "ename": "SystemError",
     "evalue": "<built-in function getInitialState> returned a result with an error set",
     "output_type": "error",
     "traceback": [
      "\u001b[0;31m---------------------------------------------------------------------------\u001b[0m",
      "\u001b[0;31mTypeError\u001b[0m                                 Traceback (most recent call last)",
      "\u001b[0;31mTypeError\u001b[0m: function takes at least 1 argument (0 given)",
      "\nThe above exception was the direct cause of the following exception:\n",
      "\u001b[0;31mSystemError\u001b[0m                               Traceback (most recent call last)",
      "\u001b[0;32m<ipython-input-12-c8c24c27a762>\u001b[0m in \u001b[0;36m<module>\u001b[0;34m\u001b[0m\n\u001b[0;32m----> 1\u001b[0;31m \u001b[0mcopt\u001b[0m\u001b[0;34m.\u001b[0m\u001b[0mgetInitialState\u001b[0m\u001b[0;34m(\u001b[0m\u001b[0;34m)\u001b[0m\u001b[0;34m\u001b[0m\u001b[0;34m\u001b[0m\u001b[0m\n\u001b[0m",
      "\u001b[0;31mSystemError\u001b[0m: <built-in function getInitialState> returned a result with an error set"
     ]
    }
   ],
   "source": [
    "copt.getInitialState()"
   ]
  }
 ],
 "metadata": {
  "kernelspec": {
   "display_name": "Python 3",
   "language": "python",
   "name": "python3"
  },
  "language_info": {
   "codemirror_mode": {
    "name": "ipython",
    "version": 3
   },
   "file_extension": ".py",
   "mimetype": "text/x-python",
   "name": "python",
   "nbconvert_exporter": "python",
   "pygments_lexer": "ipython3",
   "version": "3.7.3"
  }
 },
 "nbformat": 4,
 "nbformat_minor": 2
}
